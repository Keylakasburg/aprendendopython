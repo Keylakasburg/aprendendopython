{
  "nbformat": 4,
  "nbformat_minor": 0,
  "metadata": {
    "colab": {
      "name": "Cópia de introducao-python-exercicios.ipynb",
      "provenance": [],
      "collapsed_sections": [
        "eAoCCwy1iOBK",
        "PwrNWAoNqBGB",
        "z30WuoVE7fFE",
        "BhGYYkf680M0",
        "cQnKK8urA5El",
        "HS-_7ddqNgOn",
        "CDFYRqmKQT7D",
        "zbsjwxliNTuI",
        "1FHOm1QJUzrW",
        "6W4nRnrK-iN_",
        "SzGfxrLeMY84"
      ],
      "include_colab_link": true
    },
    "kernelspec": {
      "name": "python3",
      "display_name": "Python 3"
    }
  },
  "cells": [
    {
      "cell_type": "markdown",
      "metadata": {
        "id": "view-in-github",
        "colab_type": "text"
      },
      "source": [
        "<a href=\"https://colab.research.google.com/github/Keylakasburg/aprendendopython/blob/main/C%C3%B3pia_de_introducao_python_exercicios.ipynb\" target=\"_parent\"><img src=\"https://colab.research.google.com/assets/colab-badge.svg\" alt=\"Open In Colab\"/></a>"
      ]
    },
    {
      "cell_type": "markdown",
      "metadata": {
        "id": "eAoCCwy1iOBK"
      },
      "source": [
        "---\n",
        "### Tipado Dinamicamente\n",
        "\n",
        "Python é uma linguagem tipada dinalicamente, ou seja,  não é necessário declarar uma variável e definir o tipo de seu dado: o tipo de dado será associado em tempo de execução de acordo com o valor atribuído para aquela variável. \n",
        "\n",
        "### Tipos básicos  \n",
        "\n",
        "O Python possui algunas funçoes nativas, chamadas de \"built-ins\"que nos ajudam na manipulação de strings\n",
        "\n",
        "|Python | O que significa  | Exemplos  | \n",
        "|:---:|:---|:---|\n",
        "| bool     | Valores booleanos: Verdadeiro ou Falso | eh_maior = 22 > 10 <br> status = False\n",
        "| float     | Valores com ponto flutuante |  nota = 7.5 <br> preco = 30.55 \n",
        "| int| Valores inteiros: …, -2, -1, 0, 1, 2, 3, ... |  alunos_presentes = 20 <br> numero_de_slides = 50\n",
        "| str     | Textos: python considera texto tudo que estiver entre aspas (simples ou duplas)        | dia = \"sábado\" <br> assunto = 'python  básico' <br> semana = \"5\"\n",
        "| Lista   | Sequência de objetos separados por vírgula, e dentro de colchetes.  | devs = [\"ana\", \"amanda, \"andorinha\"] <br> idades = [23, 19, 38]\n",
        "\n",
        "Execute os comandos de exemplo para visualizar os resultados:"
      ]
    },
    {
      "cell_type": "code",
      "metadata": {
        "id": "-5UyZbWZneeJ",
        "outputId": "c85d84a7-b6c8-49f9-b8c8-ca471f3fef9f",
        "colab": {
          "base_uri": "https://localhost:8080/",
          "height": 34
        }
      },
      "source": [
        "\n",
        "eh_maior = 22>10\n",
        "eh_maior\n",
        "status = True\n",
        "status\n",
        "nota = 7.8\n",
        "nota\n",
        "semana = 5\n",
        "semana\n",
        "\n",
        "valor1 = 10\n",
        "valor2 = 20\n",
        "eh_maior = valor1 >= valor2\n",
        "eh_maior\n"
      ],
      "execution_count": null,
      "outputs": [
        {
          "output_type": "execute_result",
          "data": {
            "text/plain": [
              "False"
            ]
          },
          "metadata": {
            "tags": []
          },
          "execution_count": 16
        }
      ]
    },
    {
      "cell_type": "markdown",
      "metadata": {
        "id": "PwrNWAoNqBGB"
      },
      "source": [
        "\n",
        "\n",
        "### Variáveis\n",
        "\n",
        "Em Python os nomes das variáveis podem ser compostos de letras maiúsculas, minúsculas, underscore e números, iniciando com letras ou underscore (_).\n",
        "\n",
        "\n",
        "### Tipagem das variáveis\n",
        "\n",
        "Há um comando para descobrir o tipo de uma variável: type().\n",
        "\n",
        "Exemplo:\n",
        "```\n",
        "nome = \"Alini\"\n",
        "valor = 10\n",
        "expressao = 1 + valor / 3\n",
        "\n",
        "print(nome)\n",
        "print(valor)\n",
        "print(expressao)\n",
        "\n",
        "print(type(nome))\n",
        "print(type(valor))\n",
        "print(type(expressao))\n",
        "``` \n",
        "Execute os comandos de exemplo para visualizar os resultados:\n",
        "\n"
      ]
    },
    {
      "cell_type": "code",
      "metadata": {
        "id": "QOq3K556Gzsj",
        "outputId": "444ce28a-8a69-4240-9a5d-a9280a806246",
        "colab": {
          "base_uri": "https://localhost:8080/",
          "height": 85
        }
      },
      "source": [
        "nome = 'Keyla'\n",
        "print(nome)\n",
        "print(type(nome))\n",
        "\n",
        "nome = 1\n",
        "print(nome)\n",
        "print(type(nome))\n"
      ],
      "execution_count": null,
      "outputs": [
        {
          "output_type": "stream",
          "text": [
            "Keyla\n",
            "<class 'str'>\n",
            "1\n",
            "<class 'int'>\n"
          ],
          "name": "stdout"
        }
      ]
    },
    {
      "cell_type": "markdown",
      "metadata": {
        "id": "J7L0SYIrseck"
      },
      "source": [
        "---\n",
        "\n",
        "### Exercícios Python [1]\n",
        "Você possui uma variável a = 10 e uma variável b = 5, e precisa trocar o valor das duas. Como você faria?\n"
      ]
    },
    {
      "cell_type": "code",
      "metadata": {
        "id": "B_sXZErjsonx",
        "outputId": "7617538a-7e59-4b16-ca4d-172d8a693f01",
        "colab": {
          "base_uri": "https://localhost:8080/",
          "height": 51
        }
      },
      "source": [
        "a = 10\n",
        "b = 5\n",
        "\n",
        "a,b = b,a\n",
        "print(a)\n",
        "print(b)"
      ],
      "execution_count": null,
      "outputs": [
        {
          "output_type": "stream",
          "text": [
            "5\n",
            "10\n"
          ],
          "name": "stdout"
        }
      ]
    },
    {
      "cell_type": "markdown",
      "metadata": {
        "id": "z30WuoVE7fFE"
      },
      "source": [
        "---\n",
        "### Entradas e saídas\n",
        "\n",
        "Perceberam que no exercício anterior eu utilizei uma função chamada print, para apresentar a informação da variável na tela?\n",
        "Print é uma função de saída, e também possuímos uma função de entrada, chamada input.\n",
        "```\n",
        "Entrada: \n",
        "\tinput(“Texto opcional que será exibido para o usuário”)\n",
        "Saída:\n",
        "\tprint(f\"Textos a serem exibidos e {variaveis}\")\n",
        "```\n",
        "**Os textos devem ser colocados entre chaves.\n",
        "\n",
        "### Exercícios Python [2]\n",
        "Faça um programa que pergunte que dia é, e diga quantos faltam até o final do mês. Considere o mês com trinta e um dias.\n"
      ]
    },
    {
      "cell_type": "code",
      "metadata": {
        "id": "6g1aF_u87lc2",
        "outputId": "bc1d5685-8409-49ab-bd0f-5e5ac26a52cd",
        "colab": {
          "base_uri": "https://localhost:8080/",
          "height": 51
        }
      },
      "source": [
        "#arvore = input(\"Qual o nome da árvore? \") #input espera ação do usuario\n",
        "#cor = input(\"Qual a cor da árvore? \")\n",
        "#print(f\"O nome da árvore é {arvore} ela é {cor}\") # f string é formatador de texto. Traz a resposta do usuario\n",
        "\n",
        "dia = input(\"Digite o dia do mês:\")\n",
        "dia = int(dia)\n",
        "dias_restantes = 31 - dia\n",
        "print(f\"Faltam {dias_restantes} para o fim do mês!\")"
      ],
      "execution_count": null,
      "outputs": [
        {
          "output_type": "stream",
          "text": [
            "Digite o dia do mês:25\n",
            "Faltam 6 para o fim do mês!\n"
          ],
          "name": "stdout"
        }
      ]
    },
    {
      "cell_type": "markdown",
      "metadata": {
        "id": "BhGYYkf680M0"
      },
      "source": [
        "--------------------------------------------------------------------------------\n",
        "### Exercícios Python [3]\n",
        "\n",
        "Faça um programa que receba o número de brindes do Maria vai com as Devs que  a Jéssica vai mandar fazer, e imprima quanto de entrada ela irá que pagar. Considere que cada brinde custa R$25,00, e a entrada para o fabricante é de 50% do valor total."
      ]
    },
    {
      "cell_type": "code",
      "metadata": {
        "id": "4r_YkULZ9fF6",
        "outputId": "eb93e88d-1d08-4e42-9456-c69e24ef2cb7",
        "colab": {
          "base_uri": "https://localhost:8080/",
          "height": 51
        }
      },
      "source": [
        "valor = 25\n",
        "quantidade = int(input(\"Digite o número de brindes a serem confeccionados:\"))\n",
        "valor_entrada = (valor * quantidade) / 2\n",
        "\n",
        "valor_entrada\n",
        "print(f\"Valor da entrada é: {valor_entrada:.2f}\")"
      ],
      "execution_count": null,
      "outputs": [
        {
          "output_type": "stream",
          "text": [
            "Digite o número de brindes a serem confeccionados:50\n",
            "Valor da entrada é: 625.00\n"
          ],
          "name": "stdout"
        }
      ]
    },
    {
      "cell_type": "markdown",
      "metadata": {
        "id": "cQnKK8urA5El"
      },
      "source": [
        "---\n",
        "\n",
        "### Exercícios Python [4]\n",
        "A Serasa irá gerar um minicurso de aprendizagem financeira e está planejando um coffee break ás 15 horas.\n",
        "\n",
        "Leia o número de participantes do minicurso e imprima: \n",
        "* Quantos litros de refrigerante teremos que comprar\n",
        "* Quantas coxinhas e quanto iremos gastar.\n",
        "\n",
        "Considere que cada participante toma 400ml de refrigerante, come 10 coxinhas, que cada litro de refrigerante custa 4,00 e cada coxinha  custa  0,50. "
      ]
    },
    {
      "cell_type": "code",
      "metadata": {
        "id": "pZQdq96WBDfj",
        "outputId": "b257f143-0fe6-45d5-86d9-47009ff59e86",
        "colab": {
          "base_uri": "https://localhost:8080/",
          "height": 51
        }
      },
      "source": [
        "número_de_participantes = int(input(\"Qual o número de participantes?\"))\n",
        "refri = (número_de_participantes * 400) / 1000\n",
        "#print(f\"Total de refrigerante:{refri * 4} reais\")\n",
        "\n",
        "coxinha = (número_de_participantes * 10)\n",
        "#print(f\"Total de coxinha:{coxinha * 0.50} reais\")\n",
        "\n",
        "total_de_produtos = (refri + coxinha)\n",
        "print(f\"Total:{total_de_produtos} reais\")\n",
        "\n",
        "\n",
        "#litro_refri = 0.4 * número_de_participantes\n",
        "#preco_refri = litro_refri * 4\n",
        "\n",
        "#coxinhas = 10 * número_de_participantes\n",
        "#preco_coxinhas = coxinhas * 0.50\n",
        "\n",
        "#custo_total = preco_coxinhas + preco_refri\n",
        "#print(f\"Serão necessários comprar {litro_refri} litros de refrigerante.\")\n",
        "#print(f\"Serão necessários comprar {coxinhas} unidades de coxinhas.\")\n",
        "#print(f\"Iremos gastar {custo_total} reais\")\n"
      ],
      "execution_count": null,
      "outputs": [
        {
          "output_type": "stream",
          "text": [
            "Qual o número de participantes?10\n",
            "Total:104.0 reais\n"
          ],
          "name": "stdout"
        }
      ]
    },
    {
      "cell_type": "markdown",
      "metadata": {
        "id": "HS-_7ddqNgOn"
      },
      "source": [
        "----\n",
        "### Dicas [Comentários]"
      ]
    },
    {
      "cell_type": "code",
      "metadata": {
        "id": "q_e7tFE2D-VL",
        "outputId": "9e3d672b-4cb2-438f-e9fc-59cbc7be7766",
        "colab": {
          "base_uri": "https://localhost:8080/",
          "height": 34
        }
      },
      "source": [
        "print(\"Exemplo de código que não vai ser ignorado pelo Python\")\n",
        "#Comentário que o Python não vai processar ^-^"
      ],
      "execution_count": null,
      "outputs": [
        {
          "output_type": "stream",
          "text": [
            "Exemplo de código que não vai ser ignorado pelo Python\n"
          ],
          "name": "stdout"
        }
      ]
    },
    {
      "cell_type": "markdown",
      "metadata": {
        "id": "CDFYRqmKQT7D"
      },
      "source": [
        "---\n",
        "### Dicas [Incremento e Decremento]\n",
        "\n",
        "No Python você pode incrementar ou decrementar um valor e salvar o resultado na mesma variável. "
      ]
    },
    {
      "cell_type": "code",
      "metadata": {
        "id": "j4vF7odGG8T7",
        "outputId": "b0c8dc04-895f-4280-95bf-0724927142b2",
        "colab": {
          "base_uri": "https://localhost:8080/",
          "height": 34
        }
      },
      "source": [
        "x = 10\n",
        "x -=1\n",
        "x"
      ],
      "execution_count": null,
      "outputs": [
        {
          "output_type": "execute_result",
          "data": {
            "text/plain": [
              "9"
            ]
          },
          "metadata": {
            "tags": []
          },
          "execution_count": 73
        }
      ]
    },
    {
      "cell_type": "markdown",
      "metadata": {
        "id": "zbsjwxliNTuI"
      },
      "source": [
        "---\n",
        "### Dicas [Separando um texto com split()]\n",
        "\n",
        "Se você não determinar nenhum caractere de espaçamento para o split(), ele assumirá que é um espaço em branco.\n",
        "Como você dividirá sua entrada em duas, poderá armazená-la em duas variáveis diferentes! Se você não colocar variáveis suficientes, python criará uma lista*."
      ]
    },
    {
      "cell_type": "code",
      "metadata": {
        "id": "O7lKfRKvKOaQ",
        "outputId": "87a58ffc-152a-4f2a-889a-e50d3f3cabe5",
        "colab": {
          "base_uri": "https://localhost:8080/",
          "height": 68
        }
      },
      "source": [
        "primeiro_nome, segundo_nome = input(\"Digite dois nomes:\").split()\n",
        "print(primeiro_nome)\n",
        "print(segundo_nome)"
      ],
      "execution_count": null,
      "outputs": [
        {
          "output_type": "stream",
          "text": [
            "Digite dois nomes:keyla camila\n",
            "keyla\n",
            "camila\n"
          ],
          "name": "stdout"
        }
      ]
    },
    {
      "cell_type": "markdown",
      "metadata": {
        "id": "_P6HpGYtP_5y"
      },
      "source": [
        "---- \n",
        "#### Dicas [Separando um texto com split()]\n",
        "Na conversão de tipos de dados de entrada, para dividir a entrada em mais de uma variável e já transformar ela para o tipo desejado, utilizamos um comando auxiliar chamado map()\n"
      ]
    },
    {
      "cell_type": "code",
      "metadata": {
        "id": "M92fJzVTRUVf",
        "outputId": "21bb6539-23af-4af3-8ebe-a1788eb47ba7",
        "colab": {
          "base_uri": "https://localhost:8080/",
          "height": 85
        }
      },
      "source": [
        "#valor1, valor2 = map(float, input(\"Digite dois valores:\").split(\",\")) #split usado para separar string texto. Float é dado com vírgula\n",
        "\n",
        "#print(valor1)\n",
        "#print(valor2)\n",
        "\n",
        "texto1 = \"Abra a porta\"\n",
        "print(texto1)\n",
        "\n",
        "pal1, pal2, pal3 = (texto1.split())\n",
        "print(pal1)\n",
        "print(pal2)\n",
        "print(pal3)"
      ],
      "execution_count": null,
      "outputs": [
        {
          "output_type": "stream",
          "text": [
            "Abra a porta\n",
            "Abra\n",
            "a\n",
            "porta\n"
          ],
          "name": "stdout"
        }
      ]
    },
    {
      "cell_type": "markdown",
      "metadata": {
        "id": "1FHOm1QJUzrW"
      },
      "source": [
        "---\n",
        "### Exercícios Python [5]\n",
        "\n",
        "Para que a jéssica consiga enviar os brindes e não errar na preferência de cores de todas as participantes, ela precisa saber a quantidade de pessoas que preferem a cor rosa, roxo ou azul.\n",
        "Faça um programa que leia a quantidade de pessoas que preferem cada cor e retorne a porcentagem de cada uma destas cores."
      ]
    },
    {
      "cell_type": "code",
      "metadata": {
        "id": "ff9YwbCIVCR1",
        "outputId": "b33f52eb-ce1b-40fa-d0fb-015d2b991113",
        "colab": {
          "base_uri": "https://localhost:8080/",
          "height": 85
        }
      },
      "source": [
        "rosa, roxo, azul = map(int, input(\"Informa separado por vírgulas quantas participantes por cor: \").split(\",\"))\n",
        "total_participantes = rosa + roxo + azul\n",
        "\n",
        "porcentagem_rosa = rosa / total_participantes * 100\n",
        "porcentagem_roxo = roxo / total_participantes * 100\n",
        "porcentagem_azul = azul / total_participantes * 100\n",
        "\n",
        "\n",
        "print(f\"{porcentagem_rosa:.2f}% de pessoas preferem rosa.\")\n",
        "print(f\"{porcentagem_roxo:.2f}% de pessoas preferem roxo.\")\n",
        "print(f\"{porcentagem_azul:.2f}% de pessoas preferem azul.\")"
      ],
      "execution_count": null,
      "outputs": [
        {
          "output_type": "stream",
          "text": [
            "Informa separado por vírgulas quantas participantes por cor: 10,15,15\n",
            "25.00% de pessoas preferem rosa.\n",
            "37.50% de pessoas preferem roxo.\n",
            "37.50% de pessoas preferem azul.\n"
          ],
          "name": "stdout"
        }
      ]
    },
    {
      "cell_type": "markdown",
      "metadata": {
        "id": "3utXBlm-sWbH"
      },
      "source": [
        "---\n",
        "### Estruturas condicionais\n",
        "\n",
        "Uma Estrutura de Condição, como o próprio nome já diz, verifica a condição dos argumentos passados e, executa um comando caso a condição seja verdadeira.\n",
        "\n",
        "```\n",
        "SE condição\n",
        "ENTÃO comando\n",
        "```\n",
        "\n",
        "Sintaxe em python:\n",
        "```\n",
        "if condição:\n",
        "    código\n",
        "elif condição:\n",
        "    código\n",
        "else:\n",
        "    código\n",
        "```\n",
        "\n",
        "### Exercícios Python [6]\n",
        "\n",
        "Dez pessoas assinalaram que iriam participar do encontro do Maria vai com as Devs hoje. \n",
        "\n",
        "Faça um programa que leia o número de pessoas presentes e escreva “Sucesso!” se todas as pessoas compareceram, e “Alguém faltou :/” caso contrário.\n",
        "\n",
        "Se houverem mais de dez pessoas imprima “Temos um intruso entre nós :v”."
      ]
    },
    {
      "cell_type": "code",
      "metadata": {
        "id": "e0KmEDJFsjHS",
        "outputId": "92878d73-521e-4926-f585-1b72b3474007",
        "colab": {
          "base_uri": "https://localhost:8080/",
          "height": 51
        }
      },
      "source": [
        ""
      ],
      "execution_count": null,
      "outputs": [
        {
          "output_type": "stream",
          "text": [
            "Digite o numero de mulheres presentes:2\n",
            "Alguém faltou :/\n"
          ],
          "name": "stdout"
        }
      ]
    },
    {
      "cell_type": "markdown",
      "metadata": {
        "id": "rCAns0Ox0XHN"
      },
      "source": [
        "---\n",
        "### Álgebra booleana em Python\n",
        "Para facilitar a estruturação das condições, podemos utilizar os operadores booleanos\n",
        "\n",
        "| Operador  | Python | Exemplo  | Descrição  |\n",
        "|---|:---|:---|:---|\n",
        "| E| and|P and Q |Se P e Q forem verdadeiros retorna True, se não retorna False \n",
        "|OU| or|P or Q|Se P ou Q forem verdadeiros retorna True, se não retorna False\n",
        "|Não  | not | not Q |Se Q é verdadeiro retorna False, se não retorna True\n"
      ]
    },
    {
      "cell_type": "code",
      "metadata": {
        "id": "f_7IXsHzul2o",
        "outputId": "c426738b-62f7-4897-859e-398045d6a9ad",
        "colab": {
          "base_uri": "https://localhost:8080/",
          "height": 68
        }
      },
      "source": [
        "a = True\n",
        "b = False\n",
        "c = None \n",
        "\n",
        "# Retorna True, porque o c é None, ou seja, não á valor nenhum atribuído a ele\n",
        "print(f\"Condicional not (not c): {not c}\")\n",
        "\n",
        "#Retorna True, porque o a é verdadeiro. Para retornar True, uma das opções deve ser verdadeira\n",
        "print(f\"Condicional or (a or b): {a or b}\")\n",
        "\n",
        "#Retorna False, porque o a é verdadeiro e o b é False. Para retornar True, ambos devem ser verdadeiros\n",
        "print(f\"Condicional and (a and b): {a and b}\")"
      ],
      "execution_count": null,
      "outputs": [
        {
          "output_type": "stream",
          "text": [
            "Condicional not (not c): True\n",
            "Condicional or (a or b): True\n",
            "Condicional and (a and b): False\n"
          ],
          "name": "stdout"
        }
      ]
    },
    {
      "cell_type": "markdown",
      "metadata": {
        "id": "dPgxj5P_QM6-"
      },
      "source": [
        "---\n",
        "### Exercícios Python [7]\n",
        "Receba duas notas, uma é de uma prova e outra é de um trabalho, por fim retorne:\n",
        "\n",
        "Se a nota da prova for maior ou igual a 5 e nota do trabalho maior que 6: “Aprovado”;\n",
        "Senão: “Reprovado”."
      ]
    },
    {
      "cell_type": "code",
      "metadata": {
        "id": "t7GuTZQJ0hN3",
        "outputId": "1d536421-e270-4db8-8831-83bfe4cd6296",
        "colab": {
          "base_uri": "https://localhost:8080/",
          "height": 68
        }
      },
      "source": [
        ""
      ],
      "execution_count": null,
      "outputs": [
        {
          "output_type": "stream",
          "text": [
            "Dígite a nota de sua prova:5\n",
            "Dígite a nota de seu trabalho:3\n",
            "Reprovado\n"
          ],
          "name": "stdout"
        }
      ]
    },
    {
      "cell_type": "markdown",
      "metadata": {
        "id": "mCXGIpi54QhY"
      },
      "source": [
        "---\n",
        "### Exercícios Python [8]\n",
        "\n",
        "A Serasa anualmente promove a ida dos desenvolvedores para a Python Brasil, mas como temos um número limitado de ingressos disponíveis, pode ser necessário decidir quem irá.\n",
        "\n",
        "Como critério de desempate sobre os ingressos, quem nunca participou do evento terá prioridade.\n",
        "\n",
        "Receba o número de ingressos disponíveis, o número total de interessados e o número de interessados que já participaram do evento antes, diga se é possível distribuir os ingressos apenas com essas regras, ou se será necessário um sorteio.\n",
        "\n",
        "\n"
      ]
    },
    {
      "cell_type": "code",
      "metadata": {
        "id": "AduAMBIq5AJr",
        "outputId": "d3376899-beb9-4561-eaac-3f9a632dbd9e",
        "colab": {
          "base_uri": "https://localhost:8080/",
          "height": 85
        }
      },
      "source": [
        "\n"
      ],
      "execution_count": null,
      "outputs": [
        {
          "output_type": "stream",
          "text": [
            "Número de vagas disponíveis:10\n",
            "Número de pessoas que já participaram:2\n",
            "Número de pessoas interessadas:10\n",
            "Todos irão\n"
          ],
          "name": "stdout"
        }
      ]
    },
    {
      "cell_type": "markdown",
      "metadata": {
        "id": "6W4nRnrK-iN_"
      },
      "source": [
        "---\n",
        "### Exercícios Python [9]\n",
        "\n",
        "Nos últimos anos o Brasil está com muita variação de temperatura, e uma coisa louca acontecendo é que você pode passar por várias estações do ano num mesmo dia!\n",
        "Para ajudar as pessoas a não pegar uma gripe ou uma insolação, você vai ler a temperatura e a umidade do ar da tabela a seguir,e criar um programa que classifica quais itens de sobrevivência são necessários para nossos dias de “verão”.\n",
        "\n",
        "| Temperatura às 8h - ºC  |  Umidade do ar - % | Itens de sobrevivência  |\n",
        "|---|---|---|\n",
        "| 10ºC < 15ºC  | 0 <= 40    | Blusa de frio e regata                |\n",
        "| 10ºC < 15ºC  | 40 <= 100 | Blusa de frio, regata e guarda-chuva  |\n",
        "| 15ºC < 20ºC  | 0 < 40    | Blusa de frio e regata                |\n",
        "| 15ºC < 20ºC  | 40 <= 100 | Blusa de frio, regata e guarda-chuva  |\n",
        "| 20ºC < 25ºC  | 0 < 40    | Regata                                |\n",
        "| 20ºC < 25ºC  | 40 <= 100 | Regata e guarda-chuva                 |\n"
      ]
    },
    {
      "cell_type": "code",
      "metadata": {
        "id": "dg_NLKdY-mJr",
        "outputId": "0248f519-491d-4b1f-b5b3-6c8a4906cf9c",
        "colab": {
          "base_uri": "https://localhost:8080/",
          "height": 68
        }
      },
      "source": [
        ""
      ],
      "execution_count": null,
      "outputs": [
        {
          "output_type": "stream",
          "text": [
            "Temperatura:20\n",
            "Umidade:40\n",
            "Regata\n"
          ],
          "name": "stdout"
        }
      ]
    },
    {
      "cell_type": "markdown",
      "metadata": {
        "id": "SzGfxrLeMY84"
      },
      "source": [
        "---\n",
        "###  Strings [Símbolos]\n",
        "\n",
        "O Python possui alguns símbolos que nos auxiliam na manipulação de strings:\n",
        "\n",
        "\n",
        "|Símbolo | Signficado  | Exemplo  | Resultado  | \n",
        "|:---:|:---|:---|:---:|\n",
        "| +      | Concatenação  |  'bolinho de ' + 'chuva '+ 'quero' | ?  |\n",
        "| -      | Repetição     |  'Maria vai com as devs '*4        | ?  |\n",
        "|[]      | Indexação     |  'chuva'[1]                        | ?  |\n",
        "|[:]     | Fatiamento    |  'chuva'[0:1]                      | ?  |\n",
        "|{}      | Substituição  |  'chuv{}'.format('inha')           | ?  |\n",
        "|in      | Verificação   |  'chuv' in 'chuvinha'              | ?  |\n",
        "|not in  | Verificação   |  'chuva' not in 'chuvinha'         | ?  |\n",
        "\n",
        "\n",
        "\n",
        "Execute os comandos de exemplo para visualizar os resultados:"
      ]
    },
    {
      "cell_type": "code",
      "metadata": {
        "id": "UP9aVk5QPDsD",
        "outputId": "010e96b7-4ac2-4c90-8df0-cc4e295229b8",
        "colab": {
          "base_uri": "https://localhost:8080/",
          "height": 35
        }
      },
      "source": [
        "'chuv{}'.format('inha')"
      ],
      "execution_count": null,
      "outputs": [
        {
          "output_type": "execute_result",
          "data": {
            "application/vnd.google.colaboratory.intrinsic+json": {
              "type": "string"
            },
            "text/plain": [
              "'chuvinha'"
            ]
          },
          "metadata": {
            "tags": []
          },
          "execution_count": 70
        }
      ]
    },
    {
      "cell_type": "markdown",
      "metadata": {
        "id": "bY4eutVtSctJ"
      },
      "source": [
        "---\n",
        "\n",
        "### Strings [Funções]  \n",
        "\n",
        "O Python possui algunas funçoes nativas, chamadas de \"built-ins\"que nos ajudam na manipulação de strings\n",
        "\n",
        "|Função | Parâmetro  | Aplicação  | Resultado  | \n",
        "|:---:|:---|:---|:---:|\n",
        "| upper     | nenhum      |  \"bolinho de chuva\".upper()              | ?  |\n",
        "| lower     | nenhum      |  \"BOLINHO DE CHUVA\".lower()              | ?  |\n",
        "| capitalize| nenhum      |  \"bolinho de chuva\".capitalize()         | ?  |\n",
        "| count     | item        |  \"bolinho de chuva\".count(\"h\")           | ?  |\n",
        "| replace   | (old, new)  |  \"bolinho de chuva\".replace(\"a\", \"inha\") | ?  |\n",
        "| find      | item        |  \"bolinho de chuva\".find(\"chu\")          | ?  |\n",
        "| len       | item        |  len(\"bolinho de chuva\")                 | ?  |\n",
        "\n",
        "\n",
        "\n",
        "\n",
        "\n",
        "\n",
        "\n",
        "\n",
        "\n",
        "\n",
        "Execute os comandos de exemplo para visualizar os resultados:"
      ]
    },
    {
      "cell_type": "code",
      "metadata": {
        "id": "Sq6K0DVnT4lo",
        "outputId": "2985a245-be19-453f-b1e2-5407a9f4d653",
        "colab": {
          "base_uri": "https://localhost:8080/",
          "height": 34
        }
      },
      "source": [
        "len(\"bolinho de chuva\")"
      ],
      "execution_count": null,
      "outputs": [
        {
          "output_type": "execute_result",
          "data": {
            "text/plain": [
              "16"
            ]
          },
          "metadata": {
            "tags": []
          },
          "execution_count": 88
        }
      ]
    },
    {
      "cell_type": "markdown",
      "metadata": {
        "id": "HU6nB81LWHub"
      },
      "source": [
        "---\n",
        "### Exercícios Python [10]\n",
        "\n",
        "Você é o responsável por gerar os certificados dos da trilha financeira da serasa, porém, sabemos que eventualmente os participantes não cooperam e escrevem seus nomes sem seguir a norma padrão, apenas com a primeira letra maiúscula. Para evitar certificados despadronizados, você resolveu escrever um programa em Python para normalizar os nomes para você!\n",
        "\n",
        "O programa recebe um nome e padroniza o nome para você:\n",
        "\n"
      ]
    },
    {
      "cell_type": "code",
      "metadata": {
        "id": "3yWKzpxOWNEz",
        "outputId": "6224dc14-73b5-4685-9899-afad6b00422d",
        "colab": {
          "base_uri": "https://localhost:8080/",
          "height": 51
        }
      },
      "source": [
        "\n"
      ],
      "execution_count": null,
      "outputs": [
        {
          "output_type": "stream",
          "text": [
            "Digíte o nome do participante:aliniiiii\n",
            "Aliniiiii\n"
          ],
          "name": "stdout"
        }
      ]
    },
    {
      "cell_type": "markdown",
      "metadata": {
        "id": "bY5WBo5pXEfi"
      },
      "source": [
        "---\n",
        "### Estruturas de repetição\n",
        "\n",
        "As estruturas padrões para repetição em Python são:\n",
        " ```\n",
        " while (condição):\n",
        "    # código\n",
        " ``` \n",
        "\n",
        " ```\n",
        " for item in iterável:\n",
        "  # código\n",
        "```  \n",
        "\n",
        "### Exercício Python[11]\n",
        "\n",
        "Leia números enquanto a soma dos números lidos seja menor que 20.\n",
        "\n"
      ]
    },
    {
      "cell_type": "code",
      "metadata": {
        "id": "ajde_SZmY79z",
        "outputId": "76d845d0-d987-4a5a-b61c-60210f017453",
        "colab": {
          "base_uri": "https://localhost:8080/",
          "height": 102
        }
      },
      "source": [
        "\n"
      ],
      "execution_count": null,
      "outputs": [
        {
          "output_type": "stream",
          "text": [
            "Digíte o próximo número:3\n",
            "Digíte o próximo número:5\n",
            "Digíte o próximo número:3\n",
            "Digíte o próximo número:12\n",
            "23\n"
          ],
          "name": "stdout"
        }
      ]
    },
    {
      "cell_type": "markdown",
      "metadata": {
        "id": "c-aftXfOgEXT"
      },
      "source": [
        "---\n",
        "### Exercicio Pyhton [12]\n",
        "Possuímos uma lista de cinco desenvolvedoras que participam do programa Maria vai com as devs. Elas se chamam: Andorinha, Azaléia, Amélia, Margarida e Rosa.\n",
        "\n",
        "Construa um programa que descubra quantas delas possuem o nome começando com a letra “A”.\n",
        "\n"
      ]
    },
    {
      "cell_type": "code",
      "metadata": {
        "id": "bFF8uV4LgSdj",
        "outputId": "c0656b42-aacb-48a8-bcba-8197a9a95e22",
        "colab": {
          "base_uri": "https://localhost:8080/",
          "height": 34
        }
      },
      "source": [
        ""
      ],
      "execution_count": null,
      "outputs": [
        {
          "output_type": "stream",
          "text": [
            "Foram encontradas 3 desenvolvedoras que começam com a letra A\n"
          ],
          "name": "stdout"
        }
      ]
    }
  ]
}